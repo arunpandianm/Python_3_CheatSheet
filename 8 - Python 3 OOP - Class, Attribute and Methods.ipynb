{
  "cells": [
    {
      "metadata": {},
      "cell_type": "markdown",
      "source": "# Python 3 OOP - Class, Attribute and Methods\n\nAuthor : Arunpandian Murugan\n\nEmail ID : arunpandian.murugan@outlook.com"
    },
    {
      "metadata": {},
      "cell_type": "markdown",
      "source": "# Class\n\n`Docstring` \n* Class is a **Template** or **Blueprint** for the object.\n* Class should follow pascal case with prefix class keyword.\n* **`For Example : `** class NameOfTheClass(): //Pascal casing"
    },
    {
      "metadata": {
        "trusted": true
      },
      "cell_type": "code",
      "source": "class Circle():\n    ##todo\n    pass",
      "execution_count": null,
      "outputs": []
    },
    {
      "metadata": {},
      "cell_type": "markdown",
      "source": "# Object\n\n`Docstring` \n* Object is an **instance** of an class.\n* No need to use **New** key in creating object. \n* Object name could be **snake_case**."
    },
    {
      "metadata": {
        "trusted": true
      },
      "cell_type": "code",
      "source": "class Circle():\n    ##todo\n    pass",
      "execution_count": null,
      "outputs": []
    },
    {
      "metadata": {
        "trusted": true
      },
      "cell_type": "code",
      "source": "my_circle = Circle()",
      "execution_count": null,
      "outputs": []
    },
    {
      "metadata": {
        "trusted": true
      },
      "cell_type": "code",
      "source": "type(my_circle)",
      "execution_count": null,
      "outputs": []
    },
    {
      "metadata": {},
      "cell_type": "markdown",
      "source": "`Docstring` my_circle is an object of Circle class."
    },
    {
      "metadata": {},
      "cell_type": "markdown",
      "source": "# __init__ method\n\n`Docstring` \n* Python doesn't have default constructor.\n* init is special method which performs default constructor's process."
    },
    {
      "metadata": {
        "trusted": true
      },
      "cell_type": "code",
      "source": "class Circle():\n    \n    def __init__(self, radius = 1):\n        ## radius = 1 is the default argument\n        ## This could be changed while creating the object\n        ## Mostly use it, Inorder to avoid run-time exception\n        self.radius = radius",
      "execution_count": null,
      "outputs": []
    },
    {
      "metadata": {
        "trusted": true
      },
      "cell_type": "code",
      "source": "my_circle = Circle()",
      "execution_count": null,
      "outputs": []
    },
    {
      "metadata": {
        "trusted": true
      },
      "cell_type": "code",
      "source": "my_circle.radius",
      "execution_count": null,
      "outputs": []
    },
    {
      "metadata": {
        "trusted": true
      },
      "cell_type": "code",
      "source": "my_second_circle = Circle(15)",
      "execution_count": null,
      "outputs": []
    },
    {
      "metadata": {
        "trusted": true
      },
      "cell_type": "code",
      "source": "my_second_circle.radius",
      "execution_count": null,
      "outputs": []
    },
    {
      "metadata": {},
      "cell_type": "markdown",
      "source": "## Define Common Class Attribute\n\n`Docstring`\n* It's similar to global variable.\n* It could be accessed by methods inside the class"
    },
    {
      "metadata": {
        "trusted": true
      },
      "cell_type": "code",
      "source": "class Circle():\n    \n    float_pi = 3.14\n    ## This Global attribute for this class\n    \n    def __init__(self, radius = 1):\n        ## radius = 1 is the default argument\n        ## This could be changed while creating the object\n        ## Mostly use it, Inorder to avoid run-time exception\n        self.radius = radius",
      "execution_count": 21,
      "outputs": []
    },
    {
      "metadata": {
        "trusted": true
      },
      "cell_type": "code",
      "source": "my_circle = Circle()",
      "execution_count": 3,
      "outputs": []
    },
    {
      "metadata": {
        "trusted": true
      },
      "cell_type": "code",
      "source": "my_circle.float_pi",
      "execution_count": 4,
      "outputs": [
        {
          "output_type": "execute_result",
          "execution_count": 4,
          "data": {
            "text/plain": "3.14"
          },
          "metadata": {}
        }
      ]
    },
    {
      "metadata": {},
      "cell_type": "markdown",
      "source": "# Define Method\n\n`Docstring ` \n* User can define their own method.\n* Difference between method and function\n  `Method is also an function which is present inside the class and process the attribute`"
    },
    {
      "metadata": {
        "trusted": true
      },
      "cell_type": "code",
      "source": "class Circle():\n    \n    float_pi = 3.14\n    ## This Global attribute for this class\n    \n    def __init__(self, radius = 1):\n        ## radius = 1 is the default argument\n        ## This could be changed while creating the object\n        ## Mostly use it, Inorder to avoid run-time exception\n        self.radius = radius\n        \n    def circumference(self):\n        return (2 * self.float_pi * self.radius)",
      "execution_count": 22,
      "outputs": []
    },
    {
      "metadata": {
        "trusted": true
      },
      "cell_type": "code",
      "source": "my_circle = Circle()\n## While creating object, this take the default radius",
      "execution_count": 23,
      "outputs": []
    },
    {
      "metadata": {
        "trusted": true
      },
      "cell_type": "code",
      "source": "my_circle.circumference()",
      "execution_count": 24,
      "outputs": [
        {
          "output_type": "execute_result",
          "execution_count": 24,
          "data": {
            "text/plain": "6.28"
          },
          "metadata": {}
        }
      ]
    },
    {
      "metadata": {
        "trusted": true
      },
      "cell_type": "code",
      "source": "my_circle = Circle(15)\n## While creating object, we are passing the radius argument",
      "execution_count": 25,
      "outputs": []
    },
    {
      "metadata": {
        "trusted": true
      },
      "cell_type": "code",
      "source": "my_circle.circumference()",
      "execution_count": 26,
      "outputs": [
        {
          "output_type": "execute_result",
          "execution_count": 26,
          "data": {
            "text/plain": "94.2"
          },
          "metadata": {}
        }
      ]
    },
    {
      "metadata": {},
      "cell_type": "markdown",
      "source": "# Methods with arguments\n\n`Docstring` \n\n* You can also externally pass argument for the class method also.\n* Ther is a implict difference between passing parmeter while object creation and method calling.\n    * Passing while object creation - we need to use \"self\" keyword to access it.\n    * Passing while method calls - no need to use \"self\" keyword for accessing."
    },
    {
      "metadata": {
        "trusted": true
      },
      "cell_type": "code",
      "source": "class Circle():\n    \n    float_pi = 3.14\n    ## This Global attribute for this class\n    \n    def __init__(self):\n        ## radius = 1 is the default argument\n        ## This could be changed while creating the object\n        ## Mostly use it, Inorder to avoid run-time exception\n        pass\n        \n    def circumference(self, radius = 1):\n        return (2 * self.float_pi * radius)",
      "execution_count": 31,
      "outputs": []
    },
    {
      "metadata": {
        "trusted": true
      },
      "cell_type": "code",
      "source": "my_circle = Circle()",
      "execution_count": 32,
      "outputs": []
    },
    {
      "metadata": {
        "trusted": true
      },
      "cell_type": "code",
      "source": "my_circle.circumference()",
      "execution_count": 34,
      "outputs": [
        {
          "output_type": "execute_result",
          "execution_count": 34,
          "data": {
            "text/plain": "6.28"
          },
          "metadata": {}
        }
      ]
    },
    {
      "metadata": {
        "trusted": true
      },
      "cell_type": "code",
      "source": "my_circle.circumference(15)",
      "execution_count": 35,
      "outputs": [
        {
          "output_type": "execute_result",
          "execution_count": 35,
          "data": {
            "text/plain": "94.2"
          },
          "metadata": {}
        }
      ]
    },
    {
      "metadata": {
        "trusted": true
      },
      "cell_type": "code",
      "source": "my_circle.float_pi",
      "execution_count": 36,
      "outputs": [
        {
          "output_type": "execute_result",
          "execution_count": 36,
          "data": {
            "text/plain": "3.14"
          },
          "metadata": {}
        }
      ]
    },
    {
      "metadata": {
        "trusted": true
      },
      "cell_type": "code",
      "source": "",
      "execution_count": null,
      "outputs": []
    }
  ],
  "metadata": {
    "kernelspec": {
      "name": "python3",
      "display_name": "Python 3",
      "language": "python"
    },
    "language_info": {
      "mimetype": "text/x-python",
      "nbconvert_exporter": "python",
      "name": "python",
      "pygments_lexer": "ipython3",
      "version": "3.5.4",
      "file_extension": ".py",
      "codemirror_mode": {
        "version": 3,
        "name": "ipython"
      }
    }
  },
  "nbformat": 4,
  "nbformat_minor": 1
}