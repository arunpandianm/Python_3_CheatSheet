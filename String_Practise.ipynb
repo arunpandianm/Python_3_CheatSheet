{
  "cells": [
    {
      "metadata": {},
      "cell_type": "markdown",
      "source": "# Python 3 Cheatsheet - String Manipulation\n\n  Author : Arunpandian Murugan \n\nEmail ID : arunpandian.murugan@outlook.com"
    },
    {
      "metadata": {},
      "cell_type": "markdown",
      "source": "Creating a String"
    },
    {
      "metadata": {
        "trusted": true
      },
      "cell_type": "code",
      "source": "myName = 'arunpandian'",
      "execution_count": 3,
      "outputs": []
    },
    {
      "metadata": {
        "trusted": true
      },
      "cell_type": "code",
      "source": "myName",
      "execution_count": 4,
      "outputs": [
        {
          "output_type": "execute_result",
          "execution_count": 4,
          "data": {
            "text/plain": "'arunpandian'"
          },
          "metadata": {}
        }
      ]
    },
    {
      "metadata": {},
      "cell_type": "markdown",
      "source": "Captilaize the String\n\nNote: It will captilaize the first character only"
    },
    {
      "metadata": {
        "trusted": true
      },
      "cell_type": "code",
      "source": "myName.capitalize()",
      "execution_count": 6,
      "outputs": [
        {
          "output_type": "execute_result",
          "execution_count": 6,
          "data": {
            "text/plain": "'Arunpandian'"
          },
          "metadata": {}
        }
      ]
    },
    {
      "metadata": {},
      "cell_type": "markdown",
      "source": "Uppercase String\n\nNote: It will Convert the string into uppercase"
    },
    {
      "metadata": {
        "trusted": true
      },
      "cell_type": "code",
      "source": "myName.upper()",
      "execution_count": 8,
      "outputs": [
        {
          "output_type": "execute_result",
          "execution_count": 8,
          "data": {
            "text/plain": "'ARUNPANDIAN'"
          },
          "metadata": {}
        }
      ]
    },
    {
      "metadata": {},
      "cell_type": "markdown",
      "source": "Lowercase String\n\nNote: It will Convert the string into lowercase"
    },
    {
      "metadata": {
        "trusted": true
      },
      "cell_type": "code",
      "source": "myName.lower()",
      "execution_count": 9,
      "outputs": [
        {
          "output_type": "execute_result",
          "execution_count": 9,
          "data": {
            "text/plain": "'arunpandian'"
          },
          "metadata": {}
        }
      ]
    },
    {
      "metadata": {},
      "cell_type": "markdown",
      "source": "String Length\n\nNote: Used to find the length of the string"
    },
    {
      "metadata": {
        "trusted": true
      },
      "cell_type": "code",
      "source": "len(myName)",
      "execution_count": 10,
      "outputs": [
        {
          "output_type": "execute_result",
          "execution_count": 10,
          "data": {
            "text/plain": "11"
          },
          "metadata": {}
        }
      ]
    },
    {
      "metadata": {},
      "cell_type": "markdown",
      "source": "Get the First Character\n\nNote: Used to fetch the first character of the string using its index"
    },
    {
      "metadata": {
        "trusted": true
      },
      "cell_type": "code",
      "source": "myName[0]",
      "execution_count": 12,
      "outputs": [
        {
          "output_type": "execute_result",
          "execution_count": 12,
          "data": {
            "text/plain": "'a'"
          },
          "metadata": {}
        }
      ]
    },
    {
      "metadata": {},
      "cell_type": "markdown",
      "source": "Get the Last Character \n\nNote: Used to fetch the last character of the string using its index"
    },
    {
      "metadata": {
        "trusted": true
      },
      "cell_type": "code",
      "source": "myName[-1]",
      "execution_count": 14,
      "outputs": [
        {
          "output_type": "execute_result",
          "execution_count": 14,
          "data": {
            "text/plain": "'n'"
          },
          "metadata": {}
        }
      ]
    },
    {
      "metadata": {
        "trusted": true
      },
      "cell_type": "markdown",
      "source": "String Slicing Methods"
    },
    {
      "metadata": {
        "trusted": true
      },
      "cell_type": "code",
      "source": "myString = 'This is demo Text'",
      "execution_count": 15,
      "outputs": []
    },
    {
      "metadata": {
        "trusted": true
      },
      "cell_type": "code",
      "source": "myString",
      "execution_count": 16,
      "outputs": [
        {
          "output_type": "execute_result",
          "execution_count": 16,
          "data": {
            "text/plain": "'This is demo Text'"
          },
          "metadata": {}
        }
      ]
    },
    {
      "metadata": {},
      "cell_type": "markdown",
      "source": "mystring[Starting-Index : Ending-Index : Step-Size]\n\nNote:\nStarting-Index - Denotes the starting index of substing \nEnding-Index - Denotes the Ending index of substring\nstep-size - Number of character has to be jumped in between start and end index"
    },
    {
      "metadata": {
        "trusted": true
      },
      "cell_type": "code",
      "source": "myString[::]",
      "execution_count": 17,
      "outputs": [
        {
          "output_type": "execute_result",
          "execution_count": 17,
          "data": {
            "text/plain": "'This is demo Text'"
          },
          "metadata": {}
        }
      ]
    },
    {
      "metadata": {
        "trusted": true
      },
      "cell_type": "code",
      "source": "myString[3::]",
      "execution_count": 18,
      "outputs": [
        {
          "output_type": "execute_result",
          "execution_count": 18,
          "data": {
            "text/plain": "'s is demo Text'"
          },
          "metadata": {}
        }
      ]
    },
    {
      "metadata": {
        "trusted": true
      },
      "cell_type": "code",
      "source": "myString[3:14]",
      "execution_count": 19,
      "outputs": [
        {
          "output_type": "execute_result",
          "execution_count": 19,
          "data": {
            "text/plain": "'s is demo T'"
          },
          "metadata": {}
        }
      ]
    },
    {
      "metadata": {
        "trusted": true
      },
      "cell_type": "code",
      "source": "myString[3:14:2]",
      "execution_count": 23,
      "outputs": [
        {
          "output_type": "execute_result",
          "execution_count": 23,
          "data": {
            "text/plain": "'si eoT'"
          },
          "metadata": {}
        }
      ]
    },
    {
      "metadata": {},
      "cell_type": "markdown",
      "source": "Reversing the string with slicing method"
    },
    {
      "metadata": {
        "trusted": true
      },
      "cell_type": "code",
      "source": "myString[::-1]",
      "execution_count": 24,
      "outputs": [
        {
          "output_type": "execute_result",
          "execution_count": 24,
          "data": {
            "text/plain": "'txeT omed si sihT'"
          },
          "metadata": {}
        }
      ]
    },
    {
      "metadata": {
        "trusted": true
      },
      "cell_type": "markdown",
      "source": "Iterating through List"
    },
    {
      "metadata": {
        "trusted": true
      },
      "cell_type": "code",
      "source": "for Character in myString:\n    print(Character)",
      "execution_count": 27,
      "outputs": [
        {
          "output_type": "stream",
          "text": "T\nh\ni\ns\n \ni\ns\n \nd\ne\nm\no\n \nT\ne\nx\nt\n",
          "name": "stdout"
        }
      ]
    },
    {
      "metadata": {
        "trusted": true
      },
      "cell_type": "code",
      "source": "",
      "execution_count": null,
      "outputs": []
    }
  ],
  "metadata": {
    "kernelspec": {
      "name": "python3",
      "display_name": "Python 3",
      "language": "python"
    },
    "language_info": {
      "mimetype": "text/x-python",
      "nbconvert_exporter": "python",
      "name": "python",
      "pygments_lexer": "ipython3",
      "version": "3.5.4",
      "file_extension": ".py",
      "codemirror_mode": {
        "version": 3,
        "name": "ipython"
      }
    }
  },
  "nbformat": 4,
  "nbformat_minor": 2
}