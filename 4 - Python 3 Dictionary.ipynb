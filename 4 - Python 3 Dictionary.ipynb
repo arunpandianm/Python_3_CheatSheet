{
  "cells": [
    {
      "metadata": {},
      "cell_type": "markdown",
      "source": "# Python 3 Cheatsheet - Dictionary\n\nAuthor : Arunpandian Murugan\n\nEmail ID : arunpandian.murugan@outlook.com"
    },
    {
      "metadata": {},
      "cell_type": "markdown",
      "source": "# Basic Methods in Dictionary\n\n`Docstring` \n* Dictionary is an **unordered** collection of data object as **Key and Value pair**\n* Key could be String, Integer and Float etc so as value also.."
    },
    {
      "metadata": {},
      "cell_type": "markdown",
      "source": "# type()\n\n`Docstring` Used to find the **varible type**."
    },
    {
      "metadata": {
        "trusted": true
      },
      "cell_type": "code",
      "source": "my_dictionary = {'apple' : 23, 'mango' : 53.32 , 2432 : 17}",
      "execution_count": 4,
      "outputs": []
    },
    {
      "metadata": {
        "trusted": true
      },
      "cell_type": "code",
      "source": "type(my_dictionary)",
      "execution_count": 5,
      "outputs": [
        {
          "output_type": "execute_result",
          "execution_count": 5,
          "data": {
            "text/plain": "dict"
          },
          "metadata": {}
        }
      ]
    },
    {
      "metadata": {},
      "cell_type": "markdown",
      "source": "# len()\n\n`Docstring` Used to find the **list length**."
    },
    {
      "metadata": {
        "trusted": true
      },
      "cell_type": "code",
      "source": "my_dictionary = {'apple' : 23, 'mango' : 53.32 , 2432 : 17}",
      "execution_count": 6,
      "outputs": []
    },
    {
      "metadata": {
        "trusted": true
      },
      "cell_type": "code",
      "source": "len(my_dictionary)",
      "execution_count": 7,
      "outputs": [
        {
          "output_type": "execute_result",
          "execution_count": 7,
          "data": {
            "text/plain": "3"
          },
          "metadata": {}
        }
      ]
    },
    {
      "metadata": {},
      "cell_type": "markdown",
      "source": "# Fetching Data Objects of Dictionary"
    },
    {
      "metadata": {},
      "cell_type": "markdown",
      "source": "#### Fetching Entire Dictionary"
    },
    {
      "metadata": {
        "trusted": true
      },
      "cell_type": "code",
      "source": "my_dictionary = {'apple' : 23, 'mango' : 53.32 , 2432 : 17}",
      "execution_count": 8,
      "outputs": []
    },
    {
      "metadata": {
        "trusted": true
      },
      "cell_type": "code",
      "source": "my_dictionary",
      "execution_count": 9,
      "outputs": [
        {
          "output_type": "execute_result",
          "execution_count": 9,
          "data": {
            "text/plain": "{2432: 17, 'apple': 23, 'mango': 53.32}"
          },
          "metadata": {}
        }
      ]
    },
    {
      "metadata": {},
      "cell_type": "markdown",
      "source": "#### Fetching Entire Dictionary as Tuples"
    },
    {
      "metadata": {
        "trusted": true
      },
      "cell_type": "code",
      "source": "my_dictionary = {'apple' : 23, 'mango' : 53.32 , 2432 : 17}",
      "execution_count": 11,
      "outputs": []
    },
    {
      "metadata": {
        "trusted": true
      },
      "cell_type": "code",
      "source": "my_dictionary.items()",
      "execution_count": 13,
      "outputs": [
        {
          "output_type": "execute_result",
          "execution_count": 13,
          "data": {
            "text/plain": "dict_items([(2432, 17), ('mango', 53.32), ('apple', 23)])"
          },
          "metadata": {}
        }
      ]
    },
    {
      "metadata": {},
      "cell_type": "markdown",
      "source": "#### Fetching only Dictionary Keys"
    },
    {
      "metadata": {
        "trusted": true
      },
      "cell_type": "code",
      "source": "my_dictionary = {'apple' : 23, 'mango' : 53.32 , 2432 : 17}",
      "execution_count": 14,
      "outputs": []
    },
    {
      "metadata": {
        "trusted": true
      },
      "cell_type": "code",
      "source": "my_dictionary.keys()",
      "execution_count": 16,
      "outputs": [
        {
          "output_type": "execute_result",
          "execution_count": 16,
          "data": {
            "text/plain": "dict_keys([2432, 'mango', 'apple'])"
          },
          "metadata": {}
        }
      ]
    },
    {
      "metadata": {},
      "cell_type": "markdown",
      "source": "#### Fetching only Dictionary Values"
    },
    {
      "metadata": {
        "trusted": true
      },
      "cell_type": "code",
      "source": "my_dictionary = {'apple' : 23, 'mango' : 53.32 , 2432 : 17}",
      "execution_count": 18,
      "outputs": []
    },
    {
      "metadata": {
        "trusted": true
      },
      "cell_type": "code",
      "source": "my_dictionary.values()",
      "execution_count": 19,
      "outputs": [
        {
          "output_type": "execute_result",
          "execution_count": 19,
          "data": {
            "text/plain": "dict_values([17, 53.32, 23])"
          },
          "metadata": {}
        }
      ]
    },
    {
      "metadata": {
        "trusted": true
      },
      "cell_type": "markdown",
      "source": "#### Fetching particular value from dictionary"
    },
    {
      "metadata": {
        "trusted": true
      },
      "cell_type": "code",
      "source": "my_dictionary = {'apple' : 23, 'mango' : 53.32 , 2432 : 17}",
      "execution_count": 20,
      "outputs": []
    },
    {
      "metadata": {
        "trusted": true
      },
      "cell_type": "code",
      "source": "my_dictionary['mango']",
      "execution_count": 21,
      "outputs": [
        {
          "output_type": "execute_result",
          "execution_count": 21,
          "data": {
            "text/plain": "53.32"
          },
          "metadata": {}
        }
      ]
    },
    {
      "metadata": {
        "trusted": true
      },
      "cell_type": "markdown",
      "source": "#### Fetching particular value from dictionary with nested object\n\n`Docstring` The below dictionary consists of nested list and dictionary, Will try to fetch value **`vannila`**"
    },
    {
      "metadata": {
        "trusted": true
      },
      "cell_type": "code",
      "source": "my_dictionary = {'apple' : 23, 'Dessert' : ['sweet' , {'ice_Cream' : ['vannila', 'strawberry']} ], 2432 : 17}",
      "execution_count": 24,
      "outputs": []
    },
    {
      "metadata": {
        "trusted": true
      },
      "cell_type": "code",
      "source": "my_dictionary['Dessert'][1]['ice_Cream'][0]",
      "execution_count": 30,
      "outputs": [
        {
          "output_type": "execute_result",
          "execution_count": 30,
          "data": {
            "text/plain": "'vannila'"
          },
          "metadata": {}
        }
      ]
    },
    {
      "metadata": {},
      "cell_type": "markdown",
      "source": "# Validation with Dictionary\n\n#### Checking a particular key has presented in  the dictionary"
    },
    {
      "metadata": {
        "trusted": true
      },
      "cell_type": "code",
      "source": "my_dictionary = {'apple' : 23, 'Dessert' : ['sweet' , {'ice_Cream' : ['vannila', 'strawberry']} ], 2432 : 17}",
      "execution_count": 31,
      "outputs": []
    },
    {
      "metadata": {
        "trusted": true
      },
      "cell_type": "code",
      "source": "'ice_Cream' in my_dictionary.keys()",
      "execution_count": 34,
      "outputs": [
        {
          "output_type": "execute_result",
          "execution_count": 34,
          "data": {
            "text/plain": "False"
          },
          "metadata": {}
        }
      ]
    },
    {
      "metadata": {},
      "cell_type": "markdown",
      "source": "`Docstring` Only outer most key will be taken to consideration"
    },
    {
      "metadata": {
        "trusted": true
      },
      "cell_type": "code",
      "source": "my_dictionary = {'apple' : 23, 'Dessert' : ['sweet' , {'ice_Cream' : ['vannila', 'strawberry']} ], 2432 : 17}",
      "execution_count": 31,
      "outputs": []
    },
    {
      "metadata": {
        "trusted": true
      },
      "cell_type": "code",
      "source": "'Dessert' in my_dictionary",
      "execution_count": 35,
      "outputs": [
        {
          "output_type": "execute_result",
          "execution_count": 35,
          "data": {
            "text/plain": "True"
          },
          "metadata": {}
        }
      ]
    },
    {
      "metadata": {},
      "cell_type": "markdown",
      "source": "#### Checking a particualr value has been presented in a dictionary"
    },
    {
      "metadata": {
        "trusted": true
      },
      "cell_type": "code",
      "source": "my_dictionary = {'apple' : 23, 'Dessert' : ['sweet' , {'ice_Cream' : ['vannila', 'strawberry']} ], 2432 : 17}",
      "execution_count": 37,
      "outputs": []
    },
    {
      "metadata": {
        "trusted": true
      },
      "cell_type": "code",
      "source": "'vannila' in my_dictionary",
      "execution_count": 38,
      "outputs": [
        {
          "output_type": "execute_result",
          "execution_count": 38,
          "data": {
            "text/plain": "False"
          },
          "metadata": {}
        }
      ]
    },
    {
      "metadata": {},
      "cell_type": "markdown",
      "source": "`Docstring` Only outer most value will be taken to consideration"
    },
    {
      "metadata": {
        "trusted": true
      },
      "cell_type": "code",
      "source": "23 in my_dictionary.values()",
      "execution_count": 40,
      "outputs": [
        {
          "output_type": "execute_result",
          "execution_count": 40,
          "data": {
            "text/plain": "True"
          },
          "metadata": {}
        }
      ]
    },
    {
      "metadata": {
        "trusted": true
      },
      "cell_type": "code",
      "source": "my_dictionary.pop",
      "execution_count": null,
      "outputs": []
    },
    {
      "metadata": {},
      "cell_type": "markdown",
      "source": "Update value in Dictionary"
    },
    {
      "metadata": {
        "trusted": true
      },
      "cell_type": "code",
      "source": "myDictionary['mango'] = 200",
      "execution_count": 11,
      "outputs": []
    },
    {
      "metadata": {
        "trusted": true
      },
      "cell_type": "code",
      "source": "myDictionary",
      "execution_count": 12,
      "outputs": [
        {
          "output_type": "execute_result",
          "execution_count": 12,
          "data": {
            "text/plain": "{2432: 17, 'apple': 23, 'mango': 200}"
          },
          "metadata": {}
        }
      ]
    },
    {
      "metadata": {},
      "cell_type": "markdown",
      "source": "Iterate through Dictionary"
    },
    {
      "metadata": {
        "trusted": true
      },
      "cell_type": "code",
      "source": "for key in myDictionary.keys():\n    print(key)",
      "execution_count": 13,
      "outputs": [
        {
          "output_type": "stream",
          "text": "2432\nmango\napple\n",
          "name": "stdout"
        }
      ]
    },
    {
      "metadata": {
        "trusted": true
      },
      "cell_type": "code",
      "source": "for value in myDictionary.values():\n    print(value)",
      "execution_count": 14,
      "outputs": [
        {
          "output_type": "stream",
          "text": "17\n200\n23\n",
          "name": "stdout"
        }
      ]
    },
    {
      "metadata": {
        "trusted": true
      },
      "cell_type": "code",
      "source": "",
      "execution_count": null,
      "outputs": []
    }
  ],
  "metadata": {
    "kernelspec": {
      "name": "python3",
      "display_name": "Python 3",
      "language": "python"
    },
    "language_info": {
      "mimetype": "text/x-python",
      "nbconvert_exporter": "python",
      "name": "python",
      "file_extension": ".py",
      "version": "3.5.4",
      "pygments_lexer": "ipython3",
      "codemirror_mode": {
        "version": 3,
        "name": "ipython"
      }
    }
  },
  "nbformat": 4,
  "nbformat_minor": 1
}